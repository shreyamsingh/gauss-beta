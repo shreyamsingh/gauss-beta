{
  "nbformat": 4,
  "nbformat_minor": 0,
  "metadata": {
    "colab": {
      "name": "MLProject3.ipynb",
      "provenance": [],
      "collapsed_sections": []
    },
    "kernelspec": {
      "name": "python3",
      "display_name": "Python 3"
    },
    "language_info": {
      "name": "python"
    }
  },
  "cells": [
    {
      "cell_type": "code",
      "execution_count": null,
      "metadata": {
        "id": "Ag25vkgrqrqQ"
      },
      "outputs": [],
      "source": [
        "from sklearn.naive_bayes import MultinomialNB, BernoulliNB\n",
        "from sklearn.metrics import f1_score, mean_squared_error"
      ]
    },
    {
      "cell_type": "markdown",
      "source": [
        "Multinomial"
      ],
      "metadata": {
        "id": "T8NqBP-ur1x1"
      }
    },
    {
      "cell_type": "code",
      "source": [
        "import pandas as pd\n",
        "from sklearn.naive_bayes import MultinomialNB\n",
        "filename = 'bna_train.csv'\n",
        "data = pd.read_csv(filename)\n",
        "y = data['class']\n",
        "X = data.drop(labels=['class'], axis=1)\n",
        "test = pd.read_csv('bna_test.csv')\n",
        "y_test = pd.read_csv('bna_test.csv')['class']\n",
        "X_test = pd.read_csv('bna_test.csv').drop(labels=['class'], axis=1)\n",
        "\n",
        "print(X)"
      ],
      "metadata": {
        "id": "1cMnzZBJrzaP",
        "colab": {
          "base_uri": "https://localhost:8080/"
        },
        "outputId": "dec9cd1b-6c1a-4687-b90e-3bfcfac57954"
      },
      "execution_count": null,
      "outputs": [
        {
          "output_type": "stream",
          "name": "stdout",
          "text": [
            "      variance  skewness  curtosis   entropy\n",
            "0     -2.64060   -4.4159    5.9830 -0.139240\n",
            "1      0.96441    5.8395    2.3235  0.066365\n",
            "2     -2.12410   -6.8969    5.5992 -0.471560\n",
            "3      2.31360   10.6651   -3.5288 -4.767200\n",
            "4     -0.53900   -5.1670    3.4399  0.052141\n",
            "...        ...       ...       ...       ...\n",
            "1092   2.52270    2.2369    2.7236  0.794380\n",
            "1093   3.65750    7.2797   -2.2692 -1.144000\n",
            "1094  -1.81870   -9.0366    9.0162 -0.122430\n",
            "1095  -4.28590    8.5234    3.1392 -0.916390\n",
            "1096   3.77980   -3.3109    2.6491  0.066365\n",
            "\n",
            "[1097 rows x 4 columns]\n"
          ]
        }
      ]
    },
    {
      "cell_type": "code",
      "source": [
        "for i in range(len(X['variance'])):\n",
        "  X['variance'][i] += 15\n",
        "for j in range(len(X['skewness'])):\n",
        "  X['skewness'][j] += 15\n",
        "for k in range(len(X['curtosis'])):\n",
        "  X['curtosis'][k] += 15\n",
        "for l in range(len(X['entropy'])):\n",
        "  X['entropy'][l] += 15\n",
        "\n",
        "print(X)"
      ],
      "metadata": {
        "colab": {
          "base_uri": "https://localhost:8080/"
        },
        "id": "KVZDuOXpvV-8",
        "outputId": "20c3accd-66e5-4010-f8d9-e930cd7bb02f"
      },
      "execution_count": null,
      "outputs": [
        {
          "output_type": "stream",
          "name": "stdout",
          "text": [
            "      variance  skewness  curtosis    entropy\n",
            "0     12.35940   10.5841   20.9830  14.860760\n",
            "1     15.96441   20.8395   17.3235  15.066365\n",
            "2     12.87590    8.1031   20.5992  14.528440\n",
            "3     17.31360   25.6651   11.4712  10.232800\n",
            "4     14.46100    9.8330   18.4399  15.052141\n",
            "...        ...       ...       ...        ...\n",
            "1092  17.52270   17.2369   17.7236  15.794380\n",
            "1093  18.65750   22.2797   12.7308  13.856000\n",
            "1094  13.18130    5.9634   24.0162  14.877570\n",
            "1095  10.71410   23.5234   18.1392  14.083610\n",
            "1096  18.77980   11.6891   17.6491  15.066365\n",
            "\n",
            "[1097 rows x 4 columns]\n"
          ]
        }
      ]
    },
    {
      "cell_type": "code",
      "source": [
        "clf = MultinomialNB()\n",
        "clf.fit(X, y)\n",
        "print(f'training accuracy: {clf.score(X, y)}')\n",
        "print(f'testing accuracy: {clf.score(X_test, y_test)}')\n",
        "print(f'testing f1: {f1_score(clf.predict(X_test), y_test)}')"
      ],
      "metadata": {
        "colab": {
          "base_uri": "https://localhost:8080/"
        },
        "id": "edwxfAc0vZjd",
        "outputId": "ac7b8716-239b-4cb0-978c-df2f715cea14"
      },
      "execution_count": null,
      "outputs": [
        {
          "output_type": "stream",
          "name": "stdout",
          "text": [
            "training accuracy: 0.6435733819507748\n",
            "testing accuracy: 0.5527272727272727\n",
            "testing f1: 0.4533333333333333\n"
          ]
        }
      ]
    },
    {
      "cell_type": "markdown",
      "source": [
        "Multi-Variant Bernoulli"
      ],
      "metadata": {
        "id": "1XEqj-gmr07_"
      }
    },
    {
      "cell_type": "code",
      "source": [
        "train = pd.read_csv('bna_train.csv')\n",
        "test = pd.read_csv('bna_test.csv')\n",
        "\n",
        "clf = BernoulliNB()\n",
        "X_train = train.drop(columns=['class'])\n",
        "y_train = train['class']\n",
        "clf.fit(X_train, y_train)"
      ],
      "metadata": {
        "id": "D95g-Ce_r885",
        "colab": {
          "base_uri": "https://localhost:8080/"
        },
        "outputId": "c010ed59-e514-4c0f-fc64-5cf25cdb833b"
      },
      "execution_count": null,
      "outputs": [
        {
          "output_type": "execute_result",
          "data": {
            "text/plain": [
              "BernoulliNB()"
            ]
          },
          "metadata": {},
          "execution_count": 7
        }
      ]
    },
    {
      "cell_type": "code",
      "source": [
        "print(f'training accuracy: {clf.score(X_train, y_train)}')\n",
        "print(f\"testing accuracy: {clf.score(test.drop(columns=['class']), test['class'])}\")\n",
        "print(f'testing f1: {f1_score(clf.predict(X_test), y_test)}')"
      ],
      "metadata": {
        "colab": {
          "base_uri": "https://localhost:8080/"
        },
        "id": "S5Hb4sSPx0Bl",
        "outputId": "e0e105f6-0be4-4185-e7bf-31e0a717bf05"
      },
      "execution_count": null,
      "outputs": [
        {
          "output_type": "stream",
          "name": "stdout",
          "text": [
            "training accuracy: 0.853236098450319\n",
            "testing accuracy: 0.8072727272727273\n",
            "testing f1: 0.7854251012145749\n"
          ]
        }
      ]
    },
    {
      "cell_type": "markdown",
      "source": [
        "Poisson"
      ],
      "metadata": {
        "id": "D6ZB9TVVbJ8H"
      }
    },
    {
      "cell_type": "code",
      "source": [
        "import numpy as np\n",
        "import matplotlib.pyplot as plt\n",
        "from scipy.optimize import curve_fit\n",
        "from scipy.special import factorial\n",
        "from scipy.stats import poisson\n",
        "from math import e"
      ],
      "metadata": {
        "id": "11XG2Mo6bLOm"
      },
      "execution_count": null,
      "outputs": []
    },
    {
      "cell_type": "code",
      "source": [
        "params = {}\n",
        "classes = set(data['class'])\n",
        "\n",
        "for col in data.columns[:-1]:\n",
        "  for c in classes:\n",
        "    current = data[data['class'] == c][col]\n",
        "    # the bins should be of integer width, because poisson is an integer distribution\n",
        "    bins = np.arange(11) - 0.5\n",
        "    entries, bin_edges, patches = plt.hist(current, bins=bins, density=True, label='Data')\n",
        "\n",
        "    # calculate bin centres\n",
        "    bin_middles = 0.5 * (bin_edges[1:] + bin_edges[:-1])\n",
        "\n",
        "\n",
        "    def fit_function(k, lamb):\n",
        "        '''poisson function, parameter lamb is the fit parameter'''\n",
        "        return poisson.pmf(k, lamb)\n",
        "\n",
        "\n",
        "    # fit with curve_fit\n",
        "    parameters, cov_matrix = curve_fit(fit_function, bin_middles, entries)\n",
        "    if col not in params:\n",
        "      params[col] = {}\n",
        "    params[col][c] = parameters[0]\n",
        "params"
      ],
      "metadata": {
        "colab": {
          "base_uri": "https://localhost:8080/",
          "height": 334
        },
        "id": "pKTxyc5LXg6Q",
        "outputId": "cc6df8a1-1c75-4a67-d93f-26b12ea519d7"
      },
      "execution_count": null,
      "outputs": [
        {
          "output_type": "execute_result",
          "data": {
            "text/plain": [
              "{'curtosis': {0: 1.8901009990887059, 1: 1.0638604387670858},\n",
              " 'entropy': {0: 0.662211333800739, 1: 0.5729127834816039},\n",
              " 'skewness': {0: 8.352876539645836, 1: 2.853038190589336},\n",
              " 'variance': {0: 3.0508196783854062, 1: 0.6402026060288016}}"
            ]
          },
          "metadata": {},
          "execution_count": 10
        },
        {
          "output_type": "display_data",
          "data": {
            "text/plain": [
              "<Figure size 432x288 with 1 Axes>"
            ],
            "image/png": "[encoded data removed]"
          },
          "metadata": {
            "needs_background": "light"
          }
        }
      ]
    },
    {
      "cell_type": "code",
      "source": [
        "def poissonpdf(k, l):\n",
        "  return ((l**k)*(e**-l)/factorial(int(k)))\n",
        "\n",
        "def runPoisson(df):\n",
        "  df['clf'] = None\n",
        "\n",
        "  idx = 0\n",
        "  for idx in df.index:\n",
        "    current = df.iloc[idx]\n",
        "\n",
        "    probabilities = {}\n",
        "    for c in classes:\n",
        "      total = 0\n",
        "      for col in current.index:\n",
        "        if col == 'class' or col == 'clf': continue\n",
        "        total += poissonpdf(current[col], params[col][c])\n",
        "      probabilities[c] = total\n",
        "    df.loc[idx, 'clf'] = max(probabilities, key=probabilities.get)\n",
        "  return df"
      ],
      "metadata": {
        "id": "aLysWArjb4Pd"
      },
      "execution_count": null,
      "outputs": []
    },
    {
      "cell_type": "code",
      "source": [
        "from sklearn.metrics import mean_squared_error\n",
        "train = runPoisson(train)\n",
        "print(f\"training accuracy: {mean_squared_error(train['class'], train['clf'])}\")\n",
        "test = runPoisson(test)\n",
        "print(f\"testing accuracy: {mean_squared_error(test['class'], test['clf'])}\")\n",
        "\n",
        "print(f\"testing f1: {f1_score(list(test['class']), list(test['clf']))}\")"
      ],
      "metadata": {
        "colab": {
          "base_uri": "https://localhost:8080/"
        },
        "id": "PmPmax0DAiWv",
        "outputId": "e1d2645f-64ad-4311-bc0f-20987a2dbe6f"
      },
      "execution_count": null,
      "outputs": [
        {
          "output_type": "stream",
          "name": "stderr",
          "text": [
            "/usr/local/lib/python3.7/dist-packages/ipykernel_launcher.py:2: RuntimeWarning: divide by zero encountered in double_scalars\n",
            "  \n"
          ]
        },
        {
          "output_type": "stream",
          "name": "stdout",
          "text": [
            "training accuracy: 0.5177757520510483\n"
          ]
        },
        {
          "output_type": "stream",
          "name": "stderr",
          "text": [
            "/usr/local/lib/python3.7/dist-packages/ipykernel_launcher.py:2: RuntimeWarning: divide by zero encountered in double_scalars\n",
            "  \n"
          ]
        },
        {
          "output_type": "stream",
          "name": "stdout",
          "text": [
            "testing accuracy: 0.52\n",
            "testing f1: 0.089171974522293\n"
          ]
        }
      ]
    }
  ]
}